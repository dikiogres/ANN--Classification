{
  "cells": [
    {
      "attachments": {},
      "cell_type": "markdown",
      "metadata": {
        "id": "sy2fW3YqWK3O"
      },
      "source": [
        "## Kecerdasan Komputasional\n",
        "### Implementasi Klasifikasi dengan ANN"
      ]
    },
    {
      "cell_type": "markdown",
      "metadata": {
        "id": "me3TG_qsz7aF"
      },
      "source": [
        "# Inisialisasi dan Analisis Data"
      ]
    },
    {
      "cell_type": "code",
      "execution_count": null,
      "metadata": {
        "colab": {
          "base_uri": "https://localhost:8080/",
          "height": 206
        },
        "id": "38evNH-zVfp0",
        "outputId": "1f2fc752-20f7-41be-abdf-60d86b6a90e6"
      },
      "outputs": [
        {
          "data": {
            "text/html": [
              "\n",
              "  <div id=\"df-2cd9f236-4d33-4384-b3a1-fab8e2f5c49c\">\n",
              "    <div class=\"colab-df-container\">\n",
              "      <div>\n",
              "<style scoped>\n",
              "    .dataframe tbody tr th:only-of-type {\n",
              "        vertical-align: middle;\n",
              "    }\n",
              "\n",
              "    .dataframe tbody tr th {\n",
              "        vertical-align: top;\n",
              "    }\n",
              "\n",
              "    .dataframe thead th {\n",
              "        text-align: right;\n",
              "    }\n",
              "</style>\n",
              "<table border=\"1\" class=\"dataframe\">\n",
              "  <thead>\n",
              "    <tr style=\"text-align: right;\">\n",
              "      <th></th>\n",
              "      <th>Age</th>\n",
              "      <th>Sex</th>\n",
              "      <th>BP</th>\n",
              "      <th>Cholesterol</th>\n",
              "      <th>Na_to_K</th>\n",
              "      <th>Drug</th>\n",
              "    </tr>\n",
              "  </thead>\n",
              "  <tbody>\n",
              "    <tr>\n",
              "      <th>0</th>\n",
              "      <td>23</td>\n",
              "      <td>F</td>\n",
              "      <td>HIGH</td>\n",
              "      <td>HIGH</td>\n",
              "      <td>25.355</td>\n",
              "      <td>DrugY</td>\n",
              "    </tr>\n",
              "    <tr>\n",
              "      <th>1</th>\n",
              "      <td>47</td>\n",
              "      <td>M</td>\n",
              "      <td>LOW</td>\n",
              "      <td>HIGH</td>\n",
              "      <td>13.093</td>\n",
              "      <td>drugC</td>\n",
              "    </tr>\n",
              "    <tr>\n",
              "      <th>2</th>\n",
              "      <td>47</td>\n",
              "      <td>M</td>\n",
              "      <td>LOW</td>\n",
              "      <td>HIGH</td>\n",
              "      <td>10.114</td>\n",
              "      <td>drugC</td>\n",
              "    </tr>\n",
              "    <tr>\n",
              "      <th>3</th>\n",
              "      <td>28</td>\n",
              "      <td>F</td>\n",
              "      <td>NORMAL</td>\n",
              "      <td>HIGH</td>\n",
              "      <td>7.798</td>\n",
              "      <td>drugX</td>\n",
              "    </tr>\n",
              "    <tr>\n",
              "      <th>4</th>\n",
              "      <td>61</td>\n",
              "      <td>F</td>\n",
              "      <td>LOW</td>\n",
              "      <td>HIGH</td>\n",
              "      <td>18.043</td>\n",
              "      <td>DrugY</td>\n",
              "    </tr>\n",
              "  </tbody>\n",
              "</table>\n",
              "</div>\n",
              "      <button class=\"colab-df-convert\" onclick=\"convertToInteractive('df-2cd9f236-4d33-4384-b3a1-fab8e2f5c49c')\"\n",
              "              title=\"Convert this dataframe to an interactive table.\"\n",
              "              style=\"display:none;\">\n",
              "        \n",
              "  <svg xmlns=\"http://www.w3.org/2000/svg\" height=\"24px\"viewBox=\"0 0 24 24\"\n",
              "       width=\"24px\">\n",
              "    <path d=\"M0 0h24v24H0V0z\" fill=\"none\"/>\n",
              "    <path d=\"M18.56 5.44l.94 2.06.94-2.06 2.06-.94-2.06-.94-.94-2.06-.94 2.06-2.06.94zm-11 1L8.5 8.5l.94-2.06 2.06-.94-2.06-.94L8.5 2.5l-.94 2.06-2.06.94zm10 10l.94 2.06.94-2.06 2.06-.94-2.06-.94-.94-2.06-.94 2.06-2.06.94z\"/><path d=\"M17.41 7.96l-1.37-1.37c-.4-.4-.92-.59-1.43-.59-.52 0-1.04.2-1.43.59L10.3 9.45l-7.72 7.72c-.78.78-.78 2.05 0 2.83L4 21.41c.39.39.9.59 1.41.59.51 0 1.02-.2 1.41-.59l7.78-7.78 2.81-2.81c.8-.78.8-2.07 0-2.86zM5.41 20L4 18.59l7.72-7.72 1.47 1.35L5.41 20z\"/>\n",
              "  </svg>\n",
              "      </button>\n",
              "      \n",
              "  <style>\n",
              "    .colab-df-container {\n",
              "      display:flex;\n",
              "      flex-wrap:wrap;\n",
              "      gap: 12px;\n",
              "    }\n",
              "\n",
              "    .colab-df-convert {\n",
              "      background-color: #E8F0FE;\n",
              "      border: none;\n",
              "      border-radius: 50%;\n",
              "      cursor: pointer;\n",
              "      display: none;\n",
              "      fill: #1967D2;\n",
              "      height: 32px;\n",
              "      padding: 0 0 0 0;\n",
              "      width: 32px;\n",
              "    }\n",
              "\n",
              "    .colab-df-convert:hover {\n",
              "      background-color: #E2EBFA;\n",
              "      box-shadow: 0px 1px 2px rgba(60, 64, 67, 0.3), 0px 1px 3px 1px rgba(60, 64, 67, 0.15);\n",
              "      fill: #174EA6;\n",
              "    }\n",
              "\n",
              "    [theme=dark] .colab-df-convert {\n",
              "      background-color: #3B4455;\n",
              "      fill: #D2E3FC;\n",
              "    }\n",
              "\n",
              "    [theme=dark] .colab-df-convert:hover {\n",
              "      background-color: #434B5C;\n",
              "      box-shadow: 0px 1px 3px 1px rgba(0, 0, 0, 0.15);\n",
              "      filter: drop-shadow(0px 1px 2px rgba(0, 0, 0, 0.3));\n",
              "      fill: #FFFFFF;\n",
              "    }\n",
              "  </style>\n",
              "\n",
              "      <script>\n",
              "        const buttonEl =\n",
              "          document.querySelector('#df-2cd9f236-4d33-4384-b3a1-fab8e2f5c49c button.colab-df-convert');\n",
              "        buttonEl.style.display =\n",
              "          google.colab.kernel.accessAllowed ? 'block' : 'none';\n",
              "\n",
              "        async function convertToInteractive(key) {\n",
              "          const element = document.querySelector('#df-2cd9f236-4d33-4384-b3a1-fab8e2f5c49c');\n",
              "          const dataTable =\n",
              "            await google.colab.kernel.invokeFunction('convertToInteractive',\n",
              "                                                     [key], {});\n",
              "          if (!dataTable) return;\n",
              "\n",
              "          const docLinkHtml = 'Like what you see? Visit the ' +\n",
              "            '<a target=\"_blank\" href=https://colab.research.google.com/notebooks/data_table.ipynb>data table notebook</a>'\n",
              "            + ' to learn more about interactive tables.';\n",
              "          element.innerHTML = '';\n",
              "          dataTable['output_type'] = 'display_data';\n",
              "          await google.colab.output.renderOutput(dataTable, element);\n",
              "          const docLink = document.createElement('div');\n",
              "          docLink.innerHTML = docLinkHtml;\n",
              "          element.appendChild(docLink);\n",
              "        }\n",
              "      </script>\n",
              "    </div>\n",
              "  </div>\n",
              "  "
            ],
            "text/plain": [
              "   Age Sex      BP Cholesterol  Na_to_K   Drug\n",
              "0   23   F    HIGH        HIGH   25.355  DrugY\n",
              "1   47   M     LOW        HIGH   13.093  drugC\n",
              "2   47   M     LOW        HIGH   10.114  drugC\n",
              "3   28   F  NORMAL        HIGH    7.798  drugX\n",
              "4   61   F     LOW        HIGH   18.043  DrugY"
            ]
          },
          "execution_count": 166,
          "metadata": {},
          "output_type": "execute_result"
        }
      ],
      "source": [
        "import numpy as np # buat fungsi aljabar basic\n",
        "import pandas as pd # data processingnya sama buat CSV file I/O\n",
        "import matplotlib.pyplot as plt # buat gambar decision tree\n",
        "from sklearn.model_selection import cross_val_score # ngitung akurasi dari knn\n",
        "from sklearn.preprocessing import LabelEncoder, StandardScaler # label buat preprocess gender | standard buat data scaling\n",
        "from sklearn.metrics import accuracy_score # untuk mendapatkan skor akurasi dari model ANN-nya\n",
        "from sklearn.model_selection import train_test_split # untuk data splitting\n",
        "from sklearn.compose import ColumnTransformer # untuk data preprocess kolom BP dan cholesterol\n",
        "from sklearn.preprocessing import OneHotEncoder # untuk data preprocess kolom drug\n",
        "import keras # library algoritma ANN\n",
        "from keras.models import Sequential\n",
        "from keras.layers import *\n",
        "\n",
        "df = pd.read_csv(\"./drug200.csv\")\n",
        "df.head()"
      ]
    },
    {
      "cell_type": "code",
      "execution_count": null,
      "metadata": {
        "colab": {
          "base_uri": "https://localhost:8080/",
          "height": 300
        },
        "id": "Euxm8qzCnmQL",
        "outputId": "e7824897-3f22-4bcc-b931-dd08a2a5a918"
      },
      "outputs": [
        {
          "data": {
            "text/html": [
              "\n",
              "  <div id=\"df-3af26851-12fd-49db-af6a-ba23caa4ccf3\">\n",
              "    <div class=\"colab-df-container\">\n",
              "      <div>\n",
              "<style scoped>\n",
              "    .dataframe tbody tr th:only-of-type {\n",
              "        vertical-align: middle;\n",
              "    }\n",
              "\n",
              "    .dataframe tbody tr th {\n",
              "        vertical-align: top;\n",
              "    }\n",
              "\n",
              "    .dataframe thead th {\n",
              "        text-align: right;\n",
              "    }\n",
              "</style>\n",
              "<table border=\"1\" class=\"dataframe\">\n",
              "  <thead>\n",
              "    <tr style=\"text-align: right;\">\n",
              "      <th></th>\n",
              "      <th>Age</th>\n",
              "      <th>Na_to_K</th>\n",
              "    </tr>\n",
              "  </thead>\n",
              "  <tbody>\n",
              "    <tr>\n",
              "      <th>count</th>\n",
              "      <td>200.000000</td>\n",
              "      <td>200.000000</td>\n",
              "    </tr>\n",
              "    <tr>\n",
              "      <th>mean</th>\n",
              "      <td>44.315000</td>\n",
              "      <td>16.084485</td>\n",
              "    </tr>\n",
              "    <tr>\n",
              "      <th>std</th>\n",
              "      <td>16.544315</td>\n",
              "      <td>7.223956</td>\n",
              "    </tr>\n",
              "    <tr>\n",
              "      <th>min</th>\n",
              "      <td>15.000000</td>\n",
              "      <td>6.269000</td>\n",
              "    </tr>\n",
              "    <tr>\n",
              "      <th>25%</th>\n",
              "      <td>31.000000</td>\n",
              "      <td>10.445500</td>\n",
              "    </tr>\n",
              "    <tr>\n",
              "      <th>50%</th>\n",
              "      <td>45.000000</td>\n",
              "      <td>13.936500</td>\n",
              "    </tr>\n",
              "    <tr>\n",
              "      <th>75%</th>\n",
              "      <td>58.000000</td>\n",
              "      <td>19.380000</td>\n",
              "    </tr>\n",
              "    <tr>\n",
              "      <th>max</th>\n",
              "      <td>74.000000</td>\n",
              "      <td>38.247000</td>\n",
              "    </tr>\n",
              "  </tbody>\n",
              "</table>\n",
              "</div>\n",
              "      <button class=\"colab-df-convert\" onclick=\"convertToInteractive('df-3af26851-12fd-49db-af6a-ba23caa4ccf3')\"\n",
              "              title=\"Convert this dataframe to an interactive table.\"\n",
              "              style=\"display:none;\">\n",
              "        \n",
              "  <svg xmlns=\"http://www.w3.org/2000/svg\" height=\"24px\"viewBox=\"0 0 24 24\"\n",
              "       width=\"24px\">\n",
              "    <path d=\"M0 0h24v24H0V0z\" fill=\"none\"/>\n",
              "    <path d=\"M18.56 5.44l.94 2.06.94-2.06 2.06-.94-2.06-.94-.94-2.06-.94 2.06-2.06.94zm-11 1L8.5 8.5l.94-2.06 2.06-.94-2.06-.94L8.5 2.5l-.94 2.06-2.06.94zm10 10l.94 2.06.94-2.06 2.06-.94-2.06-.94-.94-2.06-.94 2.06-2.06.94z\"/><path d=\"M17.41 7.96l-1.37-1.37c-.4-.4-.92-.59-1.43-.59-.52 0-1.04.2-1.43.59L10.3 9.45l-7.72 7.72c-.78.78-.78 2.05 0 2.83L4 21.41c.39.39.9.59 1.41.59.51 0 1.02-.2 1.41-.59l7.78-7.78 2.81-2.81c.8-.78.8-2.07 0-2.86zM5.41 20L4 18.59l7.72-7.72 1.47 1.35L5.41 20z\"/>\n",
              "  </svg>\n",
              "      </button>\n",
              "      \n",
              "  <style>\n",
              "    .colab-df-container {\n",
              "      display:flex;\n",
              "      flex-wrap:wrap;\n",
              "      gap: 12px;\n",
              "    }\n",
              "\n",
              "    .colab-df-convert {\n",
              "      background-color: #E8F0FE;\n",
              "      border: none;\n",
              "      border-radius: 50%;\n",
              "      cursor: pointer;\n",
              "      display: none;\n",
              "      fill: #1967D2;\n",
              "      height: 32px;\n",
              "      padding: 0 0 0 0;\n",
              "      width: 32px;\n",
              "    }\n",
              "\n",
              "    .colab-df-convert:hover {\n",
              "      background-color: #E2EBFA;\n",
              "      box-shadow: 0px 1px 2px rgba(60, 64, 67, 0.3), 0px 1px 3px 1px rgba(60, 64, 67, 0.15);\n",
              "      fill: #174EA6;\n",
              "    }\n",
              "\n",
              "    [theme=dark] .colab-df-convert {\n",
              "      background-color: #3B4455;\n",
              "      fill: #D2E3FC;\n",
              "    }\n",
              "\n",
              "    [theme=dark] .colab-df-convert:hover {\n",
              "      background-color: #434B5C;\n",
              "      box-shadow: 0px 1px 3px 1px rgba(0, 0, 0, 0.15);\n",
              "      filter: drop-shadow(0px 1px 2px rgba(0, 0, 0, 0.3));\n",
              "      fill: #FFFFFF;\n",
              "    }\n",
              "  </style>\n",
              "\n",
              "      <script>\n",
              "        const buttonEl =\n",
              "          document.querySelector('#df-3af26851-12fd-49db-af6a-ba23caa4ccf3 button.colab-df-convert');\n",
              "        buttonEl.style.display =\n",
              "          google.colab.kernel.accessAllowed ? 'block' : 'none';\n",
              "\n",
              "        async function convertToInteractive(key) {\n",
              "          const element = document.querySelector('#df-3af26851-12fd-49db-af6a-ba23caa4ccf3');\n",
              "          const dataTable =\n",
              "            await google.colab.kernel.invokeFunction('convertToInteractive',\n",
              "                                                     [key], {});\n",
              "          if (!dataTable) return;\n",
              "\n",
              "          const docLinkHtml = 'Like what you see? Visit the ' +\n",
              "            '<a target=\"_blank\" href=https://colab.research.google.com/notebooks/data_table.ipynb>data table notebook</a>'\n",
              "            + ' to learn more about interactive tables.';\n",
              "          element.innerHTML = '';\n",
              "          dataTable['output_type'] = 'display_data';\n",
              "          await google.colab.output.renderOutput(dataTable, element);\n",
              "          const docLink = document.createElement('div');\n",
              "          docLink.innerHTML = docLinkHtml;\n",
              "          element.appendChild(docLink);\n",
              "        }\n",
              "      </script>\n",
              "    </div>\n",
              "  </div>\n",
              "  "
            ],
            "text/plain": [
              "              Age     Na_to_K\n",
              "count  200.000000  200.000000\n",
              "mean    44.315000   16.084485\n",
              "std     16.544315    7.223956\n",
              "min     15.000000    6.269000\n",
              "25%     31.000000   10.445500\n",
              "50%     45.000000   13.936500\n",
              "75%     58.000000   19.380000\n",
              "max     74.000000   38.247000"
            ]
          },
          "execution_count": 168,
          "metadata": {},
          "output_type": "execute_result"
        }
      ],
      "source": [
        "df.describe()"
      ]
    },
    {
      "cell_type": "code",
      "execution_count": null,
      "metadata": {
        "colab": {
          "base_uri": "https://localhost:8080/"
        },
        "id": "FVdbdST5uQGJ",
        "outputId": "28917ce5-cca5-4353-aac7-89af1bb13725"
      },
      "outputs": [
        {
          "data": {
            "text/plain": [
              "Age            0\n",
              "Sex            0\n",
              "BP             0\n",
              "Cholesterol    0\n",
              "Na_to_K        0\n",
              "Drug           0\n",
              "dtype: int64"
            ]
          },
          "execution_count": 169,
          "metadata": {},
          "output_type": "execute_result"
        }
      ],
      "source": [
        "df.isnull().sum()"
      ]
    },
    {
      "cell_type": "code",
      "execution_count": null,
      "metadata": {
        "colab": {
          "base_uri": "https://localhost:8080/"
        },
        "id": "pbZjwaLkuQzX",
        "outputId": "ad3efe36-75de-4a11-cb9a-e92aa5e8f1bf"
      },
      "outputs": [
        {
          "data": {
            "text/plain": [
              "Age            0\n",
              "Sex            0\n",
              "BP             0\n",
              "Cholesterol    0\n",
              "Na_to_K        0\n",
              "Drug           0\n",
              "dtype: int64"
            ]
          },
          "execution_count": 170,
          "metadata": {},
          "output_type": "execute_result"
        }
      ],
      "source": [
        "df.isna().sum()"
      ]
    },
    {
      "cell_type": "code",
      "execution_count": null,
      "metadata": {
        "colab": {
          "base_uri": "https://localhost:8080/"
        },
        "id": "5ej9ZwFwuU-g",
        "outputId": "ba4dc32d-c350-498c-db8f-c690f579376c"
      },
      "outputs": [
        {
          "name": "stdout",
          "output_type": "stream",
          "text": [
            "<class 'pandas.core.frame.DataFrame'>\n",
            "RangeIndex: 200 entries, 0 to 199\n",
            "Data columns (total 6 columns):\n",
            " #   Column       Non-Null Count  Dtype  \n",
            "---  ------       --------------  -----  \n",
            " 0   Age          200 non-null    int64  \n",
            " 1   Sex          200 non-null    object \n",
            " 2   BP           200 non-null    object \n",
            " 3   Cholesterol  200 non-null    object \n",
            " 4   Na_to_K      200 non-null    float64\n",
            " 5   Drug         200 non-null    object \n",
            "dtypes: float64(1), int64(1), object(4)\n",
            "memory usage: 9.5+ KB\n"
          ]
        }
      ],
      "source": [
        "df.info()"
      ]
    },
    {
      "cell_type": "markdown",
      "metadata": {
        "id": "XCYol5Fy0CFC"
      },
      "source": [
        "# Data Preprocessing"
      ]
    },
    {
      "cell_type": "code",
      "execution_count": null,
      "metadata": {
        "id": "SsS-apLbubzb"
      },
      "outputs": [],
      "source": [
        "x, y = df.iloc[:, :-1].values, df.iloc[:, -1].values"
      ]
    },
    {
      "cell_type": "markdown",
      "metadata": {
        "id": "6nZKXgERvO3f"
      },
      "source": [
        "## Encoding untuk Kolom Gender, BP, Cholesterol, dan Drug"
      ]
    },
    {
      "cell_type": "code",
      "execution_count": null,
      "metadata": {
        "id": "80kBKLX6uh_k"
      },
      "outputs": [],
      "source": [
        "# Kolom gender\n",
        "le = LabelEncoder()\n",
        "x[:, 1] = le.fit_transform(x[:, 1])\n",
        "\n",
        "# Kolom BP dan Cholesterol\n",
        "ct = ColumnTransformer(transformers=[('encoder', OneHotEncoder(), [2, 3])], remainder='passthrough')\n",
        "x = np.array(ct.fit_transform(x))\n",
        "\n",
        "# Kolom drug\n",
        "encoder = OneHotEncoder()\n",
        "encoded_y = encoder.fit(y.reshape(-1,1))\n",
        "y = encoded_y.transform(y.reshape(-1,1)).toarray()"
      ]
    },
    {
      "cell_type": "markdown",
      "metadata": {
        "id": "sS-bJIxNvjiq"
      },
      "source": [
        "## Data Splitting"
      ]
    },
    {
      "cell_type": "code",
      "execution_count": null,
      "metadata": {
        "id": "Hcafwer0vbTB"
      },
      "outputs": [],
      "source": [
        "x_train, x_test, y_train, y_test = train_test_split(x, y, test_size=0.2, random_state=42)"
      ]
    },
    {
      "cell_type": "markdown",
      "metadata": {
        "id": "HyaZxa7NwC-H"
      },
      "source": [
        "## Data Scaling"
      ]
    },
    {
      "cell_type": "code",
      "execution_count": null,
      "metadata": {
        "id": "aUL_6O50wHeR"
      },
      "outputs": [],
      "source": [
        "sc = StandardScaler()\n",
        "x_train = sc.fit_transform(x_train)\n",
        "x_test = sc.transform(x_test)"
      ]
    },
    {
      "cell_type": "markdown",
      "metadata": {
        "id": "ewyIbQNYwjf6"
      },
      "source": [
        "# Implementasi ANN"
      ]
    },
    {
      "cell_type": "markdown",
      "metadata": {
        "id": "1priBZ2hxBek"
      },
      "source": [
        "### Layer Tersembunyi"
      ]
    },
    {
      "cell_type": "code",
      "execution_count": null,
      "metadata": {
        "id": "o4eM_dUJwlwk"
      },
      "outputs": [],
      "source": [
        "modelAnn = Sequential()\n",
        "modelAnn.add(Dense(units=12, activation='relu'))\n",
        "modelAnn.add(Dense(units=12, activation='relu'))\n",
        "# modelAnn.summary()"
      ]
    },
    {
      "cell_type": "markdown",
      "metadata": {
        "id": "QMegt8ZsxHKK"
      },
      "source": [
        "## Layer Output"
      ]
    },
    {
      "cell_type": "code",
      "execution_count": null,
      "metadata": {
        "id": "AZ2HkXrjw-nF"
      },
      "outputs": [],
      "source": [
        "jumlah_kemungkinan_hasil =  len(set(df[\"Drug\"]))\n",
        "modelAnn.add(Dense(units=jumlah_kemungkinan_hasil, activation='softmax'))"
      ]
    },
    {
      "cell_type": "markdown",
      "metadata": {
        "id": "11RxLHDOxY4_"
      },
      "source": [
        "## Kompilasi"
      ]
    },
    {
      "cell_type": "code",
      "execution_count": null,
      "metadata": {
        "id": "y22sQTxUxXyV"
      },
      "outputs": [],
      "source": [
        "modelAnn.compile(optimizer='adam', loss='categorical_crossentropy', metrics=['accuracy'])"
      ]
    },
    {
      "cell_type": "markdown",
      "metadata": {
        "id": "W1AbjdCGxcFw"
      },
      "source": [
        "## Model Fit"
      ]
    },
    {
      "cell_type": "code",
      "execution_count": null,
      "metadata": {
        "colab": {
          "base_uri": "https://localhost:8080/"
        },
        "id": "_qQuQTxGxg9v",
        "outputId": "b6df0d55-9dfe-4211-c115-082212527129"
      },
      "outputs": [
        {
          "name": "stdout",
          "output_type": "stream",
          "text": [
            "Epoch 1/100\n",
            "5/5 [==============================] - 1s 52ms/step - loss: 1.5938 - accuracy: 0.3313 - val_loss: 1.5396 - val_accuracy: 0.4500\n",
            "Epoch 2/100\n",
            "5/5 [==============================] - 0s 9ms/step - loss: 1.5438 - accuracy: 0.4062 - val_loss: 1.5027 - val_accuracy: 0.4750\n",
            "Epoch 3/100\n",
            "5/5 [==============================] - 0s 12ms/step - loss: 1.5015 - accuracy: 0.4187 - val_loss: 1.4692 - val_accuracy: 0.4250\n",
            "Epoch 4/100\n",
            "5/5 [==============================] - 0s 9ms/step - loss: 1.4637 - accuracy: 0.4187 - val_loss: 1.4388 - val_accuracy: 0.4000\n",
            "Epoch 5/100\n",
            "5/5 [==============================] - 0s 10ms/step - loss: 1.4303 - accuracy: 0.4688 - val_loss: 1.4117 - val_accuracy: 0.4000\n",
            "Epoch 6/100\n",
            "5/5 [==============================] - 0s 8ms/step - loss: 1.3974 - accuracy: 0.4750 - val_loss: 1.3872 - val_accuracy: 0.4000\n",
            "Epoch 7/100\n",
            "5/5 [==============================] - 0s 8ms/step - loss: 1.3698 - accuracy: 0.4812 - val_loss: 1.3645 - val_accuracy: 0.4000\n",
            "Epoch 8/100\n",
            "5/5 [==============================] - 0s 8ms/step - loss: 1.3433 - accuracy: 0.4750 - val_loss: 1.3432 - val_accuracy: 0.4000\n",
            "Epoch 9/100\n",
            "5/5 [==============================] - 0s 8ms/step - loss: 1.3184 - accuracy: 0.4812 - val_loss: 1.3220 - val_accuracy: 0.4000\n",
            "Epoch 10/100\n",
            "5/5 [==============================] - 0s 9ms/step - loss: 1.2946 - accuracy: 0.4750 - val_loss: 1.3028 - val_accuracy: 0.3750\n",
            "Epoch 11/100\n",
            "5/5 [==============================] - 0s 9ms/step - loss: 1.2712 - accuracy: 0.4750 - val_loss: 1.2846 - val_accuracy: 0.3750\n",
            "Epoch 12/100\n",
            "5/5 [==============================] - 0s 9ms/step - loss: 1.2505 - accuracy: 0.4812 - val_loss: 1.2662 - val_accuracy: 0.3750\n",
            "Epoch 13/100\n",
            "5/5 [==============================] - 0s 8ms/step - loss: 1.2292 - accuracy: 0.4938 - val_loss: 1.2481 - val_accuracy: 0.3750\n",
            "Epoch 14/100\n",
            "5/5 [==============================] - 0s 8ms/step - loss: 1.2080 - accuracy: 0.4938 - val_loss: 1.2303 - val_accuracy: 0.4000\n",
            "Epoch 15/100\n",
            "5/5 [==============================] - 0s 13ms/step - loss: 1.1885 - accuracy: 0.4938 - val_loss: 1.2112 - val_accuracy: 0.4250\n",
            "Epoch 16/100\n",
            "5/5 [==============================] - 0s 13ms/step - loss: 1.1698 - accuracy: 0.4938 - val_loss: 1.1918 - val_accuracy: 0.4250\n",
            "Epoch 17/100\n",
            "5/5 [==============================] - 0s 9ms/step - loss: 1.1510 - accuracy: 0.5000 - val_loss: 1.1721 - val_accuracy: 0.4250\n",
            "Epoch 18/100\n",
            "5/5 [==============================] - 0s 10ms/step - loss: 1.1338 - accuracy: 0.5125 - val_loss: 1.1521 - val_accuracy: 0.4250\n",
            "Epoch 19/100\n",
            "5/5 [==============================] - 0s 14ms/step - loss: 1.1159 - accuracy: 0.5188 - val_loss: 1.1326 - val_accuracy: 0.4250\n",
            "Epoch 20/100\n",
            "5/5 [==============================] - 0s 11ms/step - loss: 1.0984 - accuracy: 0.5375 - val_loss: 1.1148 - val_accuracy: 0.4250\n",
            "Epoch 21/100\n",
            "5/5 [==============================] - 0s 9ms/step - loss: 1.0822 - accuracy: 0.5375 - val_loss: 1.0974 - val_accuracy: 0.4250\n",
            "Epoch 22/100\n",
            "5/5 [==============================] - 0s 9ms/step - loss: 1.0670 - accuracy: 0.5500 - val_loss: 1.0796 - val_accuracy: 0.4250\n",
            "Epoch 23/100\n",
            "5/5 [==============================] - 0s 9ms/step - loss: 1.0509 - accuracy: 0.5437 - val_loss: 1.0623 - val_accuracy: 0.4500\n",
            "Epoch 24/100\n",
            "5/5 [==============================] - 0s 9ms/step - loss: 1.0359 - accuracy: 0.5500 - val_loss: 1.0444 - val_accuracy: 0.4500\n",
            "Epoch 25/100\n",
            "5/5 [==============================] - 0s 9ms/step - loss: 1.0206 - accuracy: 0.5562 - val_loss: 1.0269 - val_accuracy: 0.4500\n",
            "Epoch 26/100\n",
            "5/5 [==============================] - 0s 8ms/step - loss: 1.0074 - accuracy: 0.5688 - val_loss: 1.0086 - val_accuracy: 0.5000\n",
            "Epoch 27/100\n",
            "5/5 [==============================] - 0s 9ms/step - loss: 0.9923 - accuracy: 0.5750 - val_loss: 0.9921 - val_accuracy: 0.5000\n",
            "Epoch 28/100\n",
            "5/5 [==============================] - 0s 9ms/step - loss: 0.9796 - accuracy: 0.5750 - val_loss: 0.9751 - val_accuracy: 0.5000\n",
            "Epoch 29/100\n",
            "5/5 [==============================] - 0s 9ms/step - loss: 0.9657 - accuracy: 0.5813 - val_loss: 0.9592 - val_accuracy: 0.5000\n",
            "Epoch 30/100\n",
            "5/5 [==============================] - 0s 13ms/step - loss: 0.9524 - accuracy: 0.5875 - val_loss: 0.9442 - val_accuracy: 0.5250\n",
            "Epoch 31/100\n",
            "5/5 [==============================] - 0s 9ms/step - loss: 0.9399 - accuracy: 0.5875 - val_loss: 0.9284 - val_accuracy: 0.5250\n",
            "Epoch 32/100\n",
            "5/5 [==============================] - 0s 9ms/step - loss: 0.9270 - accuracy: 0.5938 - val_loss: 0.9126 - val_accuracy: 0.5500\n",
            "Epoch 33/100\n",
            "5/5 [==============================] - 0s 10ms/step - loss: 0.9146 - accuracy: 0.5938 - val_loss: 0.8977 - val_accuracy: 0.5500\n",
            "Epoch 34/100\n",
            "5/5 [==============================] - 0s 8ms/step - loss: 0.9017 - accuracy: 0.5875 - val_loss: 0.8830 - val_accuracy: 0.5750\n",
            "Epoch 35/100\n",
            "5/5 [==============================] - 0s 9ms/step - loss: 0.8894 - accuracy: 0.5938 - val_loss: 0.8684 - val_accuracy: 0.6000\n",
            "Epoch 36/100\n",
            "5/5 [==============================] - 0s 8ms/step - loss: 0.8771 - accuracy: 0.5938 - val_loss: 0.8544 - val_accuracy: 0.6000\n",
            "Epoch 37/100\n",
            "5/5 [==============================] - 0s 9ms/step - loss: 0.8652 - accuracy: 0.6062 - val_loss: 0.8395 - val_accuracy: 0.6000\n",
            "Epoch 38/100\n",
            "5/5 [==============================] - 0s 9ms/step - loss: 0.8526 - accuracy: 0.6062 - val_loss: 0.8260 - val_accuracy: 0.6000\n",
            "Epoch 39/100\n",
            "5/5 [==============================] - 0s 9ms/step - loss: 0.8409 - accuracy: 0.6062 - val_loss: 0.8133 - val_accuracy: 0.6000\n",
            "Epoch 40/100\n",
            "5/5 [==============================] - 0s 8ms/step - loss: 0.8289 - accuracy: 0.6125 - val_loss: 0.8008 - val_accuracy: 0.6000\n",
            "Epoch 41/100\n",
            "5/5 [==============================] - 0s 12ms/step - loss: 0.8172 - accuracy: 0.6250 - val_loss: 0.7889 - val_accuracy: 0.6000\n",
            "Epoch 42/100\n",
            "5/5 [==============================] - 0s 10ms/step - loss: 0.8054 - accuracy: 0.6250 - val_loss: 0.7770 - val_accuracy: 0.6000\n",
            "Epoch 43/100\n",
            "5/5 [==============================] - 0s 14ms/step - loss: 0.7948 - accuracy: 0.6313 - val_loss: 0.7644 - val_accuracy: 0.6000\n",
            "Epoch 44/100\n",
            "5/5 [==============================] - 0s 9ms/step - loss: 0.7831 - accuracy: 0.6375 - val_loss: 0.7529 - val_accuracy: 0.6000\n",
            "Epoch 45/100\n",
            "5/5 [==============================] - 0s 9ms/step - loss: 0.7719 - accuracy: 0.6438 - val_loss: 0.7403 - val_accuracy: 0.6250\n",
            "Epoch 46/100\n",
            "5/5 [==============================] - 0s 9ms/step - loss: 0.7607 - accuracy: 0.6500 - val_loss: 0.7280 - val_accuracy: 0.6500\n",
            "Epoch 47/100\n",
            "5/5 [==============================] - 0s 9ms/step - loss: 0.7499 - accuracy: 0.6562 - val_loss: 0.7154 - val_accuracy: 0.6500\n",
            "Epoch 48/100\n",
            "5/5 [==============================] - 0s 9ms/step - loss: 0.7391 - accuracy: 0.6687 - val_loss: 0.7030 - val_accuracy: 0.6750\n",
            "Epoch 49/100\n",
            "5/5 [==============================] - 0s 9ms/step - loss: 0.7282 - accuracy: 0.6875 - val_loss: 0.6904 - val_accuracy: 0.7000\n",
            "Epoch 50/100\n",
            "5/5 [==============================] - 0s 9ms/step - loss: 0.7172 - accuracy: 0.6938 - val_loss: 0.6796 - val_accuracy: 0.7000\n",
            "Epoch 51/100\n",
            "5/5 [==============================] - 0s 8ms/step - loss: 0.7068 - accuracy: 0.7000 - val_loss: 0.6689 - val_accuracy: 0.7000\n",
            "Epoch 52/100\n",
            "5/5 [==============================] - 0s 8ms/step - loss: 0.6961 - accuracy: 0.7063 - val_loss: 0.6577 - val_accuracy: 0.7000\n",
            "Epoch 53/100\n",
            "5/5 [==============================] - 0s 12ms/step - loss: 0.6861 - accuracy: 0.7125 - val_loss: 0.6464 - val_accuracy: 0.7000\n",
            "Epoch 54/100\n",
            "5/5 [==============================] - 0s 8ms/step - loss: 0.6755 - accuracy: 0.7188 - val_loss: 0.6356 - val_accuracy: 0.7000\n",
            "Epoch 55/100\n",
            "5/5 [==============================] - 0s 8ms/step - loss: 0.6654 - accuracy: 0.7312 - val_loss: 0.6248 - val_accuracy: 0.7000\n",
            "Epoch 56/100\n",
            "5/5 [==============================] - 0s 9ms/step - loss: 0.6552 - accuracy: 0.7312 - val_loss: 0.6143 - val_accuracy: 0.7000\n",
            "Epoch 57/100\n",
            "5/5 [==============================] - 0s 9ms/step - loss: 0.6451 - accuracy: 0.7437 - val_loss: 0.6043 - val_accuracy: 0.7250\n",
            "Epoch 58/100\n",
            "5/5 [==============================] - 0s 10ms/step - loss: 0.6359 - accuracy: 0.7500 - val_loss: 0.5959 - val_accuracy: 0.7250\n",
            "Epoch 59/100\n",
            "5/5 [==============================] - 0s 9ms/step - loss: 0.6261 - accuracy: 0.7500 - val_loss: 0.5864 - val_accuracy: 0.7500\n",
            "Epoch 60/100\n",
            "5/5 [==============================] - 0s 8ms/step - loss: 0.6170 - accuracy: 0.7625 - val_loss: 0.5754 - val_accuracy: 0.8000\n",
            "Epoch 61/100\n",
            "5/5 [==============================] - 0s 11ms/step - loss: 0.6074 - accuracy: 0.7688 - val_loss: 0.5662 - val_accuracy: 0.8000\n",
            "Epoch 62/100\n",
            "5/5 [==============================] - 0s 9ms/step - loss: 0.5984 - accuracy: 0.7750 - val_loss: 0.5564 - val_accuracy: 0.8000\n",
            "Epoch 63/100\n",
            "5/5 [==============================] - 0s 9ms/step - loss: 0.5897 - accuracy: 0.7875 - val_loss: 0.5465 - val_accuracy: 0.8000\n",
            "Epoch 64/100\n",
            "5/5 [==============================] - 0s 13ms/step - loss: 0.5804 - accuracy: 0.7875 - val_loss: 0.5385 - val_accuracy: 0.8250\n",
            "Epoch 65/100\n",
            "5/5 [==============================] - 0s 10ms/step - loss: 0.5706 - accuracy: 0.7875 - val_loss: 0.5299 - val_accuracy: 0.8250\n",
            "Epoch 66/100\n",
            "5/5 [==============================] - 0s 10ms/step - loss: 0.5614 - accuracy: 0.8000 - val_loss: 0.5212 - val_accuracy: 0.8500\n",
            "Epoch 67/100\n",
            "5/5 [==============================] - 0s 10ms/step - loss: 0.5521 - accuracy: 0.8062 - val_loss: 0.5114 - val_accuracy: 0.8500\n",
            "Epoch 68/100\n",
            "5/5 [==============================] - 0s 10ms/step - loss: 0.5424 - accuracy: 0.8062 - val_loss: 0.5021 - val_accuracy: 0.8500\n",
            "Epoch 69/100\n",
            "5/5 [==============================] - 0s 9ms/step - loss: 0.5335 - accuracy: 0.8125 - val_loss: 0.4934 - val_accuracy: 0.8500\n",
            "Epoch 70/100\n",
            "5/5 [==============================] - 0s 9ms/step - loss: 0.5238 - accuracy: 0.8188 - val_loss: 0.4849 - val_accuracy: 0.8500\n",
            "Epoch 71/100\n",
            "5/5 [==============================] - 0s 8ms/step - loss: 0.5150 - accuracy: 0.8188 - val_loss: 0.4759 - val_accuracy: 0.8500\n",
            "Epoch 72/100\n",
            "5/5 [==============================] - 0s 10ms/step - loss: 0.5059 - accuracy: 0.8313 - val_loss: 0.4665 - val_accuracy: 0.9000\n",
            "Epoch 73/100\n",
            "5/5 [==============================] - 0s 12ms/step - loss: 0.4966 - accuracy: 0.8500 - val_loss: 0.4580 - val_accuracy: 0.9000\n",
            "Epoch 74/100\n",
            "5/5 [==============================] - 0s 8ms/step - loss: 0.4871 - accuracy: 0.8500 - val_loss: 0.4501 - val_accuracy: 0.9250\n",
            "Epoch 75/100\n",
            "5/5 [==============================] - 0s 9ms/step - loss: 0.4781 - accuracy: 0.8500 - val_loss: 0.4428 - val_accuracy: 0.9250\n",
            "Epoch 76/100\n",
            "5/5 [==============================] - 0s 9ms/step - loss: 0.4689 - accuracy: 0.8562 - val_loss: 0.4352 - val_accuracy: 0.9500\n",
            "Epoch 77/100\n",
            "5/5 [==============================] - 0s 8ms/step - loss: 0.4601 - accuracy: 0.8562 - val_loss: 0.4265 - val_accuracy: 0.9500\n",
            "Epoch 78/100\n",
            "5/5 [==============================] - 0s 9ms/step - loss: 0.4503 - accuracy: 0.8750 - val_loss: 0.4187 - val_accuracy: 0.9500\n",
            "Epoch 79/100\n",
            "5/5 [==============================] - 0s 9ms/step - loss: 0.4412 - accuracy: 0.8813 - val_loss: 0.4113 - val_accuracy: 0.9500\n",
            "Epoch 80/100\n",
            "5/5 [==============================] - 0s 9ms/step - loss: 0.4323 - accuracy: 0.8875 - val_loss: 0.4036 - val_accuracy: 0.9500\n",
            "Epoch 81/100\n",
            "5/5 [==============================] - 0s 12ms/step - loss: 0.4234 - accuracy: 0.8938 - val_loss: 0.3966 - val_accuracy: 0.9500\n",
            "Epoch 82/100\n",
            "5/5 [==============================] - 0s 12ms/step - loss: 0.4150 - accuracy: 0.9000 - val_loss: 0.3878 - val_accuracy: 0.9500\n",
            "Epoch 83/100\n",
            "5/5 [==============================] - 0s 9ms/step - loss: 0.4057 - accuracy: 0.9000 - val_loss: 0.3804 - val_accuracy: 0.9500\n",
            "Epoch 84/100\n",
            "5/5 [==============================] - 0s 10ms/step - loss: 0.3972 - accuracy: 0.9125 - val_loss: 0.3729 - val_accuracy: 0.9500\n",
            "Epoch 85/100\n",
            "5/5 [==============================] - 0s 9ms/step - loss: 0.3889 - accuracy: 0.9187 - val_loss: 0.3651 - val_accuracy: 0.9750\n",
            "Epoch 86/100\n",
            "5/5 [==============================] - 0s 8ms/step - loss: 0.3802 - accuracy: 0.9250 - val_loss: 0.3589 - val_accuracy: 0.9750\n",
            "Epoch 87/100\n",
            "5/5 [==============================] - 0s 10ms/step - loss: 0.3722 - accuracy: 0.9250 - val_loss: 0.3521 - val_accuracy: 0.9750\n",
            "Epoch 88/100\n",
            "5/5 [==============================] - 0s 9ms/step - loss: 0.3640 - accuracy: 0.9250 - val_loss: 0.3441 - val_accuracy: 0.9750\n",
            "Epoch 89/100\n",
            "5/5 [==============================] - 0s 9ms/step - loss: 0.3561 - accuracy: 0.9312 - val_loss: 0.3375 - val_accuracy: 0.9750\n",
            "Epoch 90/100\n",
            "5/5 [==============================] - 0s 9ms/step - loss: 0.3481 - accuracy: 0.9312 - val_loss: 0.3301 - val_accuracy: 0.9750\n",
            "Epoch 91/100\n",
            "5/5 [==============================] - 0s 10ms/step - loss: 0.3406 - accuracy: 0.9312 - val_loss: 0.3231 - val_accuracy: 0.9750\n",
            "Epoch 92/100\n",
            "5/5 [==============================] - 0s 9ms/step - loss: 0.3333 - accuracy: 0.9312 - val_loss: 0.3155 - val_accuracy: 0.9750\n",
            "Epoch 93/100\n",
            "5/5 [==============================] - 0s 8ms/step - loss: 0.3262 - accuracy: 0.9312 - val_loss: 0.3094 - val_accuracy: 0.9750\n",
            "Epoch 94/100\n",
            "5/5 [==============================] - 0s 13ms/step - loss: 0.3189 - accuracy: 0.9375 - val_loss: 0.3029 - val_accuracy: 0.9750\n",
            "Epoch 95/100\n",
            "5/5 [==============================] - 0s 9ms/step - loss: 0.3116 - accuracy: 0.9375 - val_loss: 0.2964 - val_accuracy: 0.9750\n",
            "Epoch 96/100\n",
            "5/5 [==============================] - 0s 10ms/step - loss: 0.3049 - accuracy: 0.9375 - val_loss: 0.2898 - val_accuracy: 0.9750\n",
            "Epoch 97/100\n",
            "5/5 [==============================] - 0s 9ms/step - loss: 0.2978 - accuracy: 0.9375 - val_loss: 0.2839 - val_accuracy: 0.9750\n",
            "Epoch 98/100\n",
            "5/5 [==============================] - 0s 10ms/step - loss: 0.2916 - accuracy: 0.9438 - val_loss: 0.2780 - val_accuracy: 0.9750\n",
            "Epoch 99/100\n",
            "5/5 [==============================] - 0s 10ms/step - loss: 0.2849 - accuracy: 0.9500 - val_loss: 0.2726 - val_accuracy: 0.9750\n",
            "Epoch 100/100\n",
            "5/5 [==============================] - 0s 11ms/step - loss: 0.2786 - accuracy: 0.9563 - val_loss: 0.2657 - val_accuracy: 0.9750\n"
          ]
        }
      ],
      "source": [
        "history = modelAnn.fit(x_train, y_train, validation_data=(x_test,y_test), batch_size=32, epochs=100)"
      ]
    },
    {
      "cell_type": "markdown",
      "metadata": {
        "id": "xamRb8d2xoVz"
      },
      "source": [
        "## Prediksi Data Test"
      ]
    },
    {
      "cell_type": "code",
      "execution_count": null,
      "metadata": {
        "colab": {
          "base_uri": "https://localhost:8080/"
        },
        "id": "eAOxyEXIxr1w",
        "outputId": "9769d044-d97c-4ac9-f8c2-6b192a1b43de"
      },
      "outputs": [
        {
          "name": "stdout",
          "output_type": "stream",
          "text": [
            "2/2 [==============================] - 0s 5ms/step\n"
          ]
        }
      ],
      "source": [
        "y_pred = modelAnn.predict(x_test)"
      ]
    },
    {
      "cell_type": "markdown",
      "metadata": {
        "id": "fpdy8Ek9xwty"
      },
      "source": [
        "## Ubah Hasil yang Diprediksi ke Nilai Aktual"
      ]
    },
    {
      "cell_type": "code",
      "execution_count": null,
      "metadata": {
        "id": "htLQuiBhyMgV"
      },
      "outputs": [],
      "source": [
        "y_pred_outcome = []\n",
        "for output in y_pred:\n",
        "    list_output = [0] * jumlah_kemungkinan_hasil\n",
        "    list_output[np.where(output == max(output))[0][0]] = 1\n",
        "    y_pred_outcome.append(list_output)"
      ]
    },
    {
      "cell_type": "markdown",
      "metadata": {
        "id": "XBh0LsExyScZ"
      },
      "source": [
        "## Dapatkan Skor Akurasi Model ANN-nya"
      ]
    },
    {
      "cell_type": "code",
      "execution_count": null,
      "metadata": {
        "colab": {
          "base_uri": "https://localhost:8080/"
        },
        "id": "fvKH2n-Syx3_",
        "outputId": "cb296e75-f6d5-498e-dcf5-dbdd0f9732cd"
      },
      "outputs": [
        {
          "name": "stdout",
          "output_type": "stream",
          "text": [
            "Akurasi dari model adalah = 97.5\n"
          ]
        }
      ],
      "source": [
        "acc = accuracy_score(y_test, y_pred_outcome)\n",
        "print(\"Akurasi dari model adalah = \" + str(acc*100))"
      ]
    },
    {
      "cell_type": "code",
      "execution_count": null,
      "metadata": {
        "colab": {
          "base_uri": "https://localhost:8080/",
          "height": 281
        },
        "id": "P85q0o1q03Ip",
        "outputId": "22cae2bf-0c6c-40d7-c600-d248d9d96a3d"
      },
      "outputs": [
        {
          "data": {
            "image/png": "[encoded data removed]",
            "text/plain": [
              "<Figure size 432x288 with 1 Axes>"
            ]
          },
          "metadata": {
            "needs_background": "light"
          },
          "output_type": "display_data"
        }
      ],
      "source": [
        "plt.plot(history.history['accuracy'])\n",
        "plt.plot(history.history['val_accuracy'])\n",
        "plt.xlabel('Epochs')\n",
        "plt.ylabel('Accuracy')\n",
        "plt.legend(['Features','Price_Weight'],loc='upper left')\n",
        "plt.show()"
      ]
    },
    {
      "cell_type": "code",
      "execution_count": null,
      "metadata": {
        "colab": {
          "base_uri": "https://localhost:8080/",
          "height": 279
        },
        "id": "YugGpVT-1t-1",
        "outputId": "586ec6a6-b84d-456b-d12d-26cec833296c"
      },
      "outputs": [
        {
          "data": {
            "image/png": "[encoded data removed]",
            "text/plain": [
              "<Figure size 432x288 with 1 Axes>"
            ]
          },
          "metadata": {
            "needs_background": "light"
          },
          "output_type": "display_data"
        }
      ],
      "source": [
        "plt.plot(history.history['loss'])\n",
        "plt.plot(history.history['val_loss'])\n",
        "plt.xlabel('Epochs')\n",
        "plt.ylabel('Loss')\n",
        "plt.legend(['Features','Price_Weight'],loc='upper left')\n",
        "plt.show()"
      ]
    }
  ],
  "metadata": {
    "colab": {
      "provenance": []
    },
    "kernelspec": {
      "display_name": "Python 3",
      "name": "python3"
    },
    "language_info": {
      "name": "python"
    }
  },
  "nbformat": 4,
  "nbformat_minor": 0
}
